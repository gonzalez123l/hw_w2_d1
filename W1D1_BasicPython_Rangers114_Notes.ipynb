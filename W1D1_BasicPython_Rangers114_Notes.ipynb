{
 "cells": [
  {
   "cell_type": "markdown",
   "metadata": {},
   "source": [
    "# Week 2 - Monday Lesson (variable assignment, loops, lists)"
   ]
  },
  {
   "cell_type": "markdown",
   "metadata": {},
   "source": [
    "## Tasks Today:\n",
    "\n",
    "1) Int & Float assignments <br>\n",
    " &nbsp;&nbsp;&nbsp;&nbsp; a) Assigning int <br>\n",
    " &nbsp;&nbsp;&nbsp;&nbsp; b) Assigning float <br>\n",
    " &nbsp;&nbsp;&nbsp;&nbsp; c) Performing Calculations on ints and floats <br>\n",
    " &nbsp;&nbsp;&nbsp;&nbsp;&nbsp;&nbsp;&nbsp;&nbsp; - Addition <br>\n",
    " &nbsp;&nbsp;&nbsp;&nbsp;&nbsp;&nbsp;&nbsp;&nbsp; - Subtraction <br>\n",
    " &nbsp;&nbsp;&nbsp;&nbsp;&nbsp;&nbsp;&nbsp;&nbsp; - Multiplication <br>\n",
    " &nbsp;&nbsp;&nbsp;&nbsp;&nbsp;&nbsp;&nbsp;&nbsp; - Division <br>\n",
    " &nbsp;&nbsp;&nbsp;&nbsp;&nbsp;&nbsp;&nbsp;&nbsp; - Floor Division <br>\n",
    " &nbsp;&nbsp;&nbsp;&nbsp;&nbsp;&nbsp;&nbsp;&nbsp; - Modulo <br>\n",
    " &nbsp;&nbsp;&nbsp;&nbsp;&nbsp;&nbsp;&nbsp;&nbsp; - Exponential <br>\n",
    "2) String Input-Output <br>\n",
    " &nbsp;&nbsp;&nbsp;&nbsp; a) String Assignment <br>\n",
    " &nbsp;&nbsp;&nbsp;&nbsp; b) print() <br>\n",
    " &nbsp;&nbsp;&nbsp;&nbsp; c) String Concatenation <br>\n",
    " &nbsp;&nbsp;&nbsp;&nbsp; d) Type Conversion <br>\n",
    " &nbsp;&nbsp;&nbsp;&nbsp; e) input() <br>\n",
    " &nbsp;&nbsp;&nbsp;&nbsp; f) format() <br>\n",
    " &nbsp;&nbsp;&nbsp;&nbsp; g) Old Way (python 2) <br>\n",
    "3) <b>In-Class Exercise #1</b> <br>\n",
    "4) If Statements <br>\n",
    " &nbsp;&nbsp;&nbsp;&nbsp; a) 'is' keyword <br>\n",
    " &nbsp;&nbsp;&nbsp;&nbsp; b) 'in' keyword <br>\n",
    " &nbsp;&nbsp;&nbsp;&nbsp; c) 'not in' keyword <br>\n",
    "5) <b>In-Class Exercise #2</b> <br>\n",
    "6) Elif Statements <br>\n",
    "7) Else Statements <br>\n",
    "8) <b>In-Class Exercise #3</b> <br>\n",
    "9) Built-In Functions <br>\n",
    "\n",
    " &nbsp;&nbsp;&nbsp;&nbsp; b) len() <br>\n",
    " &nbsp;&nbsp;&nbsp;&nbsp; c) help() <br>\n",
    " &nbsp;&nbsp;&nbsp;&nbsp; d) isinstance() <br>\n",
    " &nbsp;&nbsp;&nbsp;&nbsp; e) abs() <br>\n",
    "10) Try and Except <br>\n"
   ]
  },
  {
   "cell_type": "markdown",
   "metadata": {},
   "source": [
    "### Int & Float Assignments"
   ]
  },
  {
   "cell_type": "markdown",
   "metadata": {},
   "source": [
    "##### Assigning int"
   ]
  },
  {
   "cell_type": "code",
   "execution_count": 1,
   "metadata": {},
   "outputs": [
    {
     "name": "stdout",
     "output_type": "stream",
     "text": [
      "6\n"
     ]
    }
   ],
   "source": [
    "number = 6\n",
    "print(number)"
   ]
  },
  {
   "cell_type": "markdown",
   "metadata": {},
   "source": [
    "##### Assigning float"
   ]
  },
  {
   "cell_type": "code",
   "execution_count": 3,
   "metadata": {},
   "outputs": [
    {
     "name": "stdout",
     "output_type": "stream",
     "text": [
      "3.14\n",
      "30.45\n"
     ]
    }
   ],
   "source": [
    "# float == decimal\n",
    "\n",
    "num_float= 3.14\n",
    "print(num_float)\n",
    "\n",
    "my_float = 30.45\n",
    "print(my_float)"
   ]
  },
  {
   "cell_type": "markdown",
   "metadata": {},
   "source": [
    "#### Performing Calculations on ints and floats"
   ]
  },
  {
   "cell_type": "markdown",
   "metadata": {},
   "source": [
    "##### Addition"
   ]
  },
  {
   "cell_type": "code",
   "execution_count": 5,
   "metadata": {},
   "outputs": [
    {
     "name": "stdout",
     "output_type": "stream",
     "text": [
      "10\n",
      "10\n"
     ]
    }
   ],
   "source": [
    "num1 =3\n",
    "num2 = 7\n",
    "\n",
    "print(num1+num2)\n",
    "result = num1 + num2\n",
    "\n",
    "print(result)"
   ]
  },
  {
   "cell_type": "code",
   "execution_count": 7,
   "metadata": {},
   "outputs": [
    {
     "name": "stdout",
     "output_type": "stream",
     "text": [
      "17\n",
      "19\n"
     ]
    }
   ],
   "source": [
    "num3 = 15\n",
    "num4 = 2\n",
    "\n",
    "result = num3 + num4\n",
    "\n",
    "print(result)\n",
    "\n",
    "result += num4\n",
    "#result = result + num4\n",
    "print(result)"
   ]
  },
  {
   "cell_type": "markdown",
   "metadata": {},
   "source": [
    "##### Subtraction"
   ]
  },
  {
   "cell_type": "code",
   "execution_count": 8,
   "metadata": {},
   "outputs": [
    {
     "name": "stdout",
     "output_type": "stream",
     "text": [
      "13\n",
      "13\n",
      "11\n"
     ]
    }
   ],
   "source": [
    "num3 = 15\n",
    "num5 = 2\n",
    "\n",
    "print(num3 - num4)\n",
    "\n",
    "result =num3 - num4\n",
    "print(result)\n",
    "\n",
    "result -= num4\n",
    "# result = result - num4\n",
    "print(result)"
   ]
  },
  {
   "cell_type": "markdown",
   "metadata": {},
   "source": [
    "##### Multiplication"
   ]
  },
  {
   "cell_type": "code",
   "execution_count": 11,
   "metadata": {},
   "outputs": [
    {
     "name": "stdout",
     "output_type": "stream",
     "text": [
      "47.0\n",
      "94.0\n"
     ]
    }
   ],
   "source": [
    "num1 =10\n",
    "num2 = 4.7\n",
    "\n",
    "product = num1 * num2\n",
    "print(product)\n",
    "\n",
    "product *= 2\n",
    "\n",
    "print(product)"
   ]
  },
  {
   "cell_type": "markdown",
   "metadata": {},
   "source": [
    "##### Division"
   ]
  },
  {
   "cell_type": "code",
   "execution_count": 16,
   "metadata": {},
   "outputs": [
    {
     "name": "stdout",
     "output_type": "stream",
     "text": [
      "5.0\n"
     ]
    }
   ],
   "source": [
    "num1 = 45\n",
    "num2 = 9\n",
    "\n",
    "quotient = num1 / num2\n",
    "print(quotient)"
   ]
  },
  {
   "cell_type": "code",
   "execution_count": 19,
   "metadata": {},
   "outputs": [
    {
     "name": "stdout",
     "output_type": "stream",
     "text": [
      "15.0\n"
     ]
    }
   ],
   "source": [
    "num1 =45\n",
    "num1 /= 3\n",
    "print(num1)\n"
   ]
  },
  {
   "cell_type": "markdown",
   "metadata": {},
   "source": [
    "##### Floor Division"
   ]
  },
  {
   "cell_type": "code",
   "execution_count": 21,
   "metadata": {
    "scrolled": true
   },
   "outputs": [
    {
     "name": "stdout",
     "output_type": "stream",
     "text": [
      "2\n"
     ]
    }
   ],
   "source": [
    "num1 = 5\n",
    "num2 =2\n",
    "\n",
    "floored = num1//num2\n",
    "print(floored)"
   ]
  },
  {
   "cell_type": "code",
   "execution_count": 22,
   "metadata": {},
   "outputs": [
    {
     "name": "stdout",
     "output_type": "stream",
     "text": [
      "2.5\n"
     ]
    }
   ],
   "source": [
    "num1 = 5\n",
    "num2 = 2\n",
    "\n",
    "quotient = num1/num2\n",
    "print(quotient)"
   ]
  },
  {
   "cell_type": "code",
   "execution_count": null,
   "metadata": {},
   "outputs": [],
   "source": []
  },
  {
   "cell_type": "markdown",
   "metadata": {},
   "source": [
    "##### Modulo"
   ]
  },
  {
   "cell_type": "code",
   "execution_count": 23,
   "metadata": {},
   "outputs": [
    {
     "name": "stdout",
     "output_type": "stream",
     "text": [
      "odd\n"
     ]
    }
   ],
   "source": [
    "num1 = 7\n",
    "if num1 % 2 == 1:\n",
    "    print(\"odd\")\n",
    "else:\n",
    "    print(\"even\")\n"
   ]
  },
  {
   "cell_type": "code",
   "execution_count": 24,
   "metadata": {},
   "outputs": [
    {
     "name": "stdout",
     "output_type": "stream",
     "text": [
      "1\n",
      "1\n"
     ]
    }
   ],
   "source": [
    "num1 = 5\n",
    "num2 = 2\n",
    "\n",
    "result_mod = num1 % num2\n",
    "print(result_mod)\n",
    "\n",
    "num1 %= num2\n",
    "\n",
    "print(num1)"
   ]
  },
  {
   "cell_type": "code",
   "execution_count": 26,
   "metadata": {},
   "outputs": [
    {
     "name": "stdout",
     "output_type": "stream",
     "text": [
      "10\n"
     ]
    }
   ],
   "source": [
    "num1 = 100\n",
    "num2 = 15\n",
    "\n",
    "result_mod = num1 % num2\n",
    "print(result_mod)"
   ]
  },
  {
   "cell_type": "markdown",
   "metadata": {},
   "source": [
    "##### Exponential"
   ]
  },
  {
   "cell_type": "code",
   "execution_count": 28,
   "metadata": {},
   "outputs": [
    {
     "name": "stdout",
     "output_type": "stream",
     "text": [
      "25\n",
      "625\n"
     ]
    }
   ],
   "source": [
    "square = 5**2\n",
    "\n",
    "print(square)\n",
    "\n",
    "square**= 2\n",
    "print(square)"
   ]
  },
  {
   "cell_type": "code",
   "execution_count": 31,
   "metadata": {},
   "outputs": [
    {
     "name": "stdout",
     "output_type": "stream",
     "text": [
      "27\n",
      "19683\n"
     ]
    }
   ],
   "source": [
    "cubed = 3**3\n",
    "print(cubed)\n",
    "cubed**=3\n",
    "print(cubed)"
   ]
  },
  {
   "cell_type": "markdown",
   "metadata": {},
   "source": [
    "### String Input-Output"
   ]
  },
  {
   "cell_type": "markdown",
   "metadata": {},
   "source": [
    "##### String Assignment"
   ]
  },
  {
   "cell_type": "code",
   "execution_count": 36,
   "metadata": {},
   "outputs": [
    {
     "name": "stdout",
     "output_type": "stream",
     "text": [
      "Ryan\n",
      "golden retriever\n"
     ]
    }
   ],
   "source": [
    "name = \"Ryan\"\n",
    "\n",
    "dog = \"golden retriever\"\n",
    "\n",
    "print(name)\n",
    "print(dog)"
   ]
  },
  {
   "cell_type": "markdown",
   "metadata": {},
   "source": [
    "##### print() <br>\n",
    "<p>Don't forget about end=' '</p>"
   ]
  },
  {
   "cell_type": "code",
   "execution_count": 39,
   "metadata": {},
   "outputs": [
    {
     "name": "stdout",
     "output_type": "stream",
     "text": [
      "Hello Ryan\n",
      "Full name: Ryan Rhodes\n",
      "\n"
     ]
    }
   ],
   "source": [
    "print('Hello', name)\n",
    "\n",
    "print('Full name:', name, end=' Rhodes')\n",
    "print('\\n')"
   ]
  },
  {
   "cell_type": "markdown",
   "metadata": {},
   "source": [
    "##### String Concatenation"
   ]
  },
  {
   "cell_type": "code",
   "execution_count": null,
   "metadata": {},
   "outputs": [],
   "source": []
  },
  {
   "cell_type": "markdown",
   "metadata": {},
   "source": [
    "##### Type Conversion"
   ]
  },
  {
   "cell_type": "code",
   "execution_count": null,
   "metadata": {},
   "outputs": [],
   "source": []
  },
  {
   "cell_type": "markdown",
   "metadata": {},
   "source": [
    "##### input()"
   ]
  },
  {
   "cell_type": "code",
   "execution_count": 1,
   "metadata": {},
   "outputs": [
    {
     "name": "stdout",
     "output_type": "stream",
     "text": [
      "What is your name?Leandro Gonzalez\n",
      "Your name is,  Leandro Gonzalez\n",
      "What is your quest,get money\n",
      "Your Quest is,  get money\n",
      "what is your favorite color?blue\n",
      "your favorite color is,  blue\n"
     ]
    }
   ],
   "source": [
    "# Input will always return a string all of the, time forever and ever and ever\n",
    "name= input(\"What is your name?\")\n",
    "print(\"Your name is, \",name)\n",
    "\n",
    "quest = input(\"What is your quest,\")\n",
    "print(\"Your Quest is, \",quest)\n",
    "\n",
    "color = input(\"what is your favorite color?\")\n",
    "print(\"your favorite color is, \",color)"
   ]
  },
  {
   "cell_type": "code",
   "execution_count": null,
   "metadata": {},
   "outputs": [],
   "source": []
  },
  {
   "cell_type": "markdown",
   "metadata": {},
   "source": [
    "##### format()"
   ]
  },
  {
   "cell_type": "code",
   "execution_count": 5,
   "metadata": {},
   "outputs": [
    {
     "name": "stdout",
     "output_type": "stream",
     "text": [
      "How old are you?24\n",
      "What is your name?leo\n",
      " You are 24 years old, leo and your are getting wiser!\n",
      "24 is a great time in life!!!\n"
     ]
    }
   ],
   "source": [
    "age = int(input (\"How old are you?\"))\n",
    "name = input(\"What is your name?\")\n",
    "\n",
    "result_string= \" You are {} years old, {} and your are getting wiser!\".format(age,name)\n",
    "print(result_string)\n",
    "\n",
    "result_again = f\"{age} is a great time in life!!!\"\n",
    "print(result_again)"
   ]
  },
  {
   "cell_type": "markdown",
   "metadata": {},
   "source": [
    "##### Old Way (python 2)"
   ]
  },
  {
   "cell_type": "code",
   "execution_count": 6,
   "metadata": {},
   "outputs": [
    {
     "name": "stdout",
     "output_type": "stream",
     "text": [
      "You are 24 and you look great for your age!\n"
     ]
    }
   ],
   "source": [
    "result_string2 = \"You are %s and you look great for your age!\" %age\n",
    "print(result_string2)"
   ]
  },
  {
   "cell_type": "markdown",
   "metadata": {},
   "source": [
    "# In-Class Exercise 1 <br>\n",
    "<p>Create a format statement that asks for a car's color, year, make, model and prints out the results</p>"
   ]
  },
  {
   "cell_type": "code",
   "execution_count": 8,
   "metadata": {},
   "outputs": [
    {
     "name": "stdout",
     "output_type": "stream",
     "text": [
      "What color is your car?blue\n",
      "What is the year of it?1998\n",
      "What make is it?honda\n",
      "What is the model?accord\n",
      " you car is a blue 1998 honda accord.\n"
     ]
    }
   ],
   "source": [
    "color = input(\"What color is your car?\")\n",
    "year = input(\"What is the year of it?\")\n",
    "make = input(\"What make is it?\")\n",
    "model = input(\"What is the model?\")\n",
    "\n",
    "print( f\" you car is a {color} {year} {make} {model}.\")"
   ]
  },
  {
   "cell_type": "code",
   "execution_count": null,
   "metadata": {},
   "outputs": [],
   "source": []
  },
  {
   "cell_type": "code",
   "execution_count": null,
   "metadata": {},
   "outputs": [],
   "source": []
  },
  {
   "cell_type": "markdown",
   "metadata": {},
   "source": [
    "### If Statements"
   ]
  },
  {
   "cell_type": "code",
   "execution_count": 12,
   "metadata": {},
   "outputs": [
    {
     "name": "stdout",
     "output_type": "stream",
     "text": [
      "Thats not a number we're looking for\n"
     ]
    }
   ],
   "source": [
    "# Operators Less than <, grater than >, equal to  ==, not equal to != \n",
    "# Less Than or Equal to <=, greater than or equal to >=\n",
    "\n",
    "#Truth Tree\n",
    "# T && F = F\n",
    "# T && T = T\n",
    "# T // F = T\n",
    "# F // T = T\n",
    "# F // F = F\n",
    "\n",
    "num1 = 5\n",
    "num2 = 5\n",
    "\n",
    "#if\n",
    "#elif\n",
    "#else\n",
    "\n",
    "if num2 == num1:\n",
    "    print(\"Equal Values\")\n",
    "elif num2 ==7:\n",
    "    print (\"Thats a 7, baby\")\n",
    "else:\n",
    "    print(\"Thats not a number we're looking for\")\n"
   ]
  },
  {
   "cell_type": "code",
   "execution_count": null,
   "metadata": {},
   "outputs": [],
   "source": [
    "num1 = 7\n",
    "num2 = 7\n",
    "\n",
    "#if\n",
    "#elif\n",
    "#else\n",
    "\n",
    "if num2 == num1:\n",
    "    print(\"Equal Values\")\n",
    "elif num2 ==7:\n",
    "    print (\"Thats a 7, baby\")\n",
    "else:\n",
    "    print(\"Thats not a number we're looking for\")"
   ]
  },
  {
   "cell_type": "markdown",
   "metadata": {},
   "source": [
    "##### 'is' keyword"
   ]
  },
  {
   "cell_type": "code",
   "execution_count": 14,
   "metadata": {
    "scrolled": true
   },
   "outputs": [
    {
     "name": "stdout",
     "output_type": "stream",
     "text": [
      "that'll do it!\n",
      "super duper\n"
     ]
    }
   ],
   "source": [
    "# use the \"is\" keyword checking for same/similar objects (location) not same value\n",
    "num3 = 90\n",
    "if num3 == 90:\n",
    "    print(\"that'll do it!\")\n",
    "#if num3 is 90:\n",
    "#    print(\"that'll also do it\") This gives us a syntax warning , working with literal\n",
    "\n",
    "num4 = num3\n",
    "\n",
    "if num4 is num3:\n",
    "    print(\"super duper\")"
   ]
  },
  {
   "cell_type": "code",
   "execution_count": null,
   "metadata": {},
   "outputs": [],
   "source": []
  },
  {
   "cell_type": "markdown",
   "metadata": {},
   "source": [
    "##### 'in' keyword"
   ]
  },
  {
   "cell_type": "code",
   "execution_count": 17,
   "metadata": {},
   "outputs": [
    {
     "name": "stdout",
     "output_type": "stream",
     "text": [
      "Beautiful\n",
      "its here\n"
     ]
    }
   ],
   "source": [
    "# Check if a character is in a string\n",
    "char_name = \"Boba Fett\"\n",
    "if \"b\" in char_name:\n",
    "    print(\"Beautiful\")\n",
    "else:\n",
    "    print(\"oh no, that not here!\")\n",
    "\n",
    "if \"f\" in char_name.lower():\n",
    "    print(\"its here\")\n",
    "else:\n",
    "    print(\"NOPE\")"
   ]
  },
  {
   "cell_type": "markdown",
   "metadata": {},
   "source": [
    "##### 'not in' keyword'"
   ]
  },
  {
   "cell_type": "code",
   "execution_count": 20,
   "metadata": {},
   "outputs": [
    {
     "name": "stdout",
     "output_type": "stream",
     "text": [
      "this is Saanicc\n"
     ]
    }
   ],
   "source": [
    "sega_char = \"Sonic\"\n",
    "sega_char2 = \"Sanic\"\n",
    "\n",
    "if 'a' not in sega_char2.lower():\n",
    "    print(\"This is not Saaanic\")\n",
    "else:\n",
    "    print(\"this is Saanicc\")"
   ]
  },
  {
   "cell_type": "markdown",
   "metadata": {},
   "source": [
    "# In-Class Exercise 2 <br>\n",
    "<p>Ask user for input, check to see if the letter 'p' is in the input</p>\n",
    "<p>Check for case sensitivity</p>\n"
   ]
  },
  {
   "cell_type": "code",
   "execution_count": 21,
   "metadata": {},
   "outputs": [
    {
     "name": "stdout",
     "output_type": "stream",
     "text": [
      "How are you feeling today?sad\n",
      "this works\n"
     ]
    }
   ],
   "source": [
    "feeling_today= input(\"How are you feeling today?\")\n",
    "\n",
    "if 'a' not in feeling_today.lower():\n",
    "    print(\"not here\")\n",
    "else:\n",
    "    print(\"this works\")"
   ]
  },
  {
   "cell_type": "code",
   "execution_count": null,
   "metadata": {},
   "outputs": [],
   "source": []
  },
  {
   "cell_type": "code",
   "execution_count": null,
   "metadata": {},
   "outputs": [],
   "source": []
  },
  {
   "cell_type": "code",
   "execution_count": null,
   "metadata": {},
   "outputs": [],
   "source": []
  },
  {
   "cell_type": "code",
   "execution_count": null,
   "metadata": {},
   "outputs": [],
   "source": []
  },
  {
   "cell_type": "code",
   "execution_count": null,
   "metadata": {},
   "outputs": [],
   "source": []
  },
  {
   "cell_type": "code",
   "execution_count": null,
   "metadata": {},
   "outputs": [],
   "source": []
  },
  {
   "cell_type": "code",
   "execution_count": null,
   "metadata": {},
   "outputs": [],
   "source": []
  },
  {
   "cell_type": "markdown",
   "metadata": {},
   "source": [
    "## Using 'and'/'or' with If Statements"
   ]
  },
  {
   "cell_type": "code",
   "execution_count": 26,
   "metadata": {},
   "outputs": [
    {
     "name": "stdout",
     "output_type": "stream",
     "text": [
      "True and True\n",
      "Both of the above statements are false\n"
     ]
    }
   ],
   "source": [
    "\n",
    "#Truth Tree\n",
    "# T && F = F\n",
    "# T && T = T\n",
    "# T // F = T\n",
    "# F // T = T\n",
    "# F // F = F\n",
    "\n",
    "num1 = 15\n",
    "num2 = 3\n",
    "num3 = 10\n",
    "num4 = 3\n",
    "\n",
    "#if with and statement\n",
    "if num1 / 5 == num2 and num3 - 7 == num4:\n",
    "    print(\"True and True\")\n",
    "else:\n",
    "    print(\"one of the above statements was false\")\n",
    "    \n",
    "# if with or statement\n",
    "if num1 >17 or num3 == num4:\n",
    "    print(\"True and False\")\n",
    "else:\n",
    "    print(\"Both of the above statements are false\")"
   ]
  },
  {
   "cell_type": "markdown",
   "metadata": {},
   "source": [
    "### Elif Statements"
   ]
  },
  {
   "cell_type": "code",
   "execution_count": 37,
   "metadata": {},
   "outputs": [
    {
     "name": "stdout",
     "output_type": "stream",
     "text": [
      "That's not a name i care about\n"
     ]
    }
   ],
   "source": [
    "#if condition 1\n",
    "#elif condition 2\n",
    "#elif condition 3\n",
    "#elif condition 4\n",
    "#else (all other conditions)\n",
    "\n",
    "first_name= \"asdfefdf\"\n",
    "\n",
    "if first_name == \"Smith\":\n",
    "    print(\"That is a weird first name\")\n",
    "elif first_name == \"Max\":\n",
    "    print(\"Ah yes, Max is indeed a first name\")\n",
    "elif first_name == \"Ryan\":\n",
    "    print(\"Hello Ryan\")\n",
    "elif first_name.lower() == \"Alex\":\n",
    "    print(\"GUTEN MORGAN, ALEX\")\n",
    "else:\n",
    "    print(\"That's not a name i care about\")\n"
   ]
  },
  {
   "cell_type": "markdown",
   "metadata": {},
   "source": [
    "### Else Statements"
   ]
  },
  {
   "cell_type": "code",
   "execution_count": 41,
   "metadata": {},
   "outputs": [
    {
     "name": "stdout",
     "output_type": "stream",
     "text": [
      "The number is not 20 or 15, its 112\n"
     ]
    }
   ],
   "source": [
    "#else is account for every toher case that isn't true for any of the ifs or elifs\n",
    "number= 112\n",
    "\n",
    "\n",
    "if number == 20:\n",
    "    print(number)\n",
    "elif number == 15:\n",
    "    print(number)\n",
    "else:\n",
    "    print(f\"The number is not 20 or 15, its {number}\")"
   ]
  },
  {
   "cell_type": "markdown",
   "metadata": {},
   "source": [
    "### String Manipulation"
   ]
  },
  {
   "cell_type": "markdown",
   "metadata": {},
   "source": [
    "#### .lstrip()"
   ]
  },
  {
   "cell_type": "code",
   "execution_count": 42,
   "metadata": {},
   "outputs": [
    {
     "name": "stdout",
     "output_type": "stream",
     "text": [
      " Lando calrissian\n",
      "Lando calrissian\n"
     ]
    }
   ],
   "source": [
    "# our_string .lstrip()\n",
    "name = \" Lando calrissian\"\n",
    "print(name)\n",
    "print(name.lstrip())"
   ]
  },
  {
   "cell_type": "markdown",
   "metadata": {},
   "source": [
    "#### .rstrip()"
   ]
  },
  {
   "cell_type": "code",
   "execution_count": 47,
   "metadata": {},
   "outputs": [
    {
     "name": "stdout",
     "output_type": "stream",
     "text": [
      "Luke Skyalker     \n",
      "Luke Skyalker\n"
     ]
    }
   ],
   "source": [
    "# our_string .rstrip()\n",
    "name = \"Luke Skyalker     \"\n",
    "print(name)\n",
    "print(name.rstrip())"
   ]
  },
  {
   "cell_type": "markdown",
   "metadata": {},
   "source": [
    "#### .strip()"
   ]
  },
  {
   "cell_type": "code",
   "execution_count": 48,
   "metadata": {},
   "outputs": [
    {
     "name": "stdout",
     "output_type": "stream",
     "text": [
      "   Ash Ketchum   \n",
      "Ash Ketchum\n"
     ]
    }
   ],
   "source": [
    "#our_string.strip()\n",
    "name = \"   Ash Ketchum   \"\n",
    "print(name)\n",
    "print(name.strip())"
   ]
  },
  {
   "cell_type": "markdown",
   "metadata": {},
   "source": [
    "#### .title()"
   ]
  },
  {
   "cell_type": "code",
   "execution_count": 53,
   "metadata": {},
   "outputs": [
    {
     "name": "stdout",
     "output_type": "stream",
     "text": [
      "leo\n",
      "Leo\n"
     ]
    }
   ],
   "source": [
    "leos_name = \"leo\"\n",
    "print(leos_name)\n",
    "print(leos_name.title())"
   ]
  },
  {
   "cell_type": "markdown",
   "metadata": {},
   "source": [
    "#### .upper()"
   ]
  },
  {
   "cell_type": "code",
   "execution_count": null,
   "metadata": {},
   "outputs": [],
   "source": []
  },
  {
   "cell_type": "markdown",
   "metadata": {},
   "source": [
    "#### .lower()"
   ]
  },
  {
   "cell_type": "code",
   "execution_count": null,
   "metadata": {
    "scrolled": true
   },
   "outputs": [],
   "source": []
  },
  {
   "cell_type": "markdown",
   "metadata": {},
   "source": [
    "### String Exercise"
   ]
  },
  {
   "cell_type": "markdown",
   "metadata": {},
   "source": [
    "Have a user input a name. Return the name with all white space removed and each first letter capitalized."
   ]
  },
  {
   "cell_type": "code",
   "execution_count": 58,
   "metadata": {},
   "outputs": [
    {
     "name": "stdout",
     "output_type": "stream",
     "text": [
      "what is your name silly goose?   Monkey D Luffy\n",
      "   Monkey D Luffy\n",
      "Monkey D Luffy\n"
     ]
    }
   ],
   "source": [
    "user_name = input(\"what is your name silly goose?\")\n",
    "print(user_name)\n",
    "print(user_name.title().strip())"
   ]
  },
  {
   "cell_type": "markdown",
   "metadata": {},
   "source": [
    "### Built-In Functions"
   ]
  },
  {
   "cell_type": "markdown",
   "metadata": {},
   "source": [
    "##### len()"
   ]
  },
  {
   "cell_type": "code",
   "execution_count": 60,
   "metadata": {},
   "outputs": [
    {
     "name": "stdout",
     "output_type": "stream",
     "text": [
      "3\n",
      "3\n"
     ]
    }
   ],
   "source": [
    "#works for strings and lists\n",
    "#return the lenght of the given variable as an integer\n",
    "\n",
    "name = \"Max\"\n",
    "length_of_name = len(name)\n",
    "print(length_of_name)\n",
    "print(len(name))"
   ]
  },
  {
   "cell_type": "markdown",
   "metadata": {},
   "source": [
    "##### help()"
   ]
  },
  {
   "cell_type": "code",
   "execution_count": null,
   "metadata": {},
   "outputs": [],
   "source": []
  },
  {
   "cell_type": "markdown",
   "metadata": {},
   "source": [
    "##### isinstance()"
   ]
  },
  {
   "cell_type": "code",
   "execution_count": null,
   "metadata": {},
   "outputs": [],
   "source": []
  },
  {
   "cell_type": "markdown",
   "metadata": {},
   "source": [
    "##### abs()"
   ]
  },
  {
   "cell_type": "code",
   "execution_count": null,
   "metadata": {},
   "outputs": [],
   "source": []
  },
  {
   "cell_type": "markdown",
   "metadata": {},
   "source": [
    "### Try and Except"
   ]
  },
  {
   "cell_type": "code",
   "execution_count": null,
   "metadata": {},
   "outputs": [],
   "source": []
  },
  {
   "cell_type": "code",
   "execution_count": null,
   "metadata": {},
   "outputs": [],
   "source": []
  },
  {
   "cell_type": "markdown",
   "metadata": {},
   "source": [
    "## Exercise #1 <br>\n",
    "<p>Accept two user ages as inputs and give us the difference between them. (The Answer should always be a positive output)</p>"
   ]
  },
  {
   "cell_type": "code",
   "execution_count": 66,
   "metadata": {},
   "outputs": [
    {
     "name": "stdout",
     "output_type": "stream",
     "text": [
      "First User How old are you?20\n",
      "Second User How old are you?4\n",
      "16\n"
     ]
    }
   ],
   "source": [
    "user1 = int(input(\"First User How old are you?\"))\n",
    "user2 = int(input(\"Second User How old are you?\"))\n",
    "print(abs(user1-user2))\n",
    "\n",
    "\n",
    "        \n",
    "        \n"
   ]
  },
  {
   "cell_type": "markdown",
   "metadata": {},
   "source": [
    "## Exercise #2 \n",
    "<p>Accept 3 user inputs for variables named noun, verb and adjective. Print out a formatted string using the outputs.</p>"
   ]
  },
  {
   "cell_type": "code",
   "execution_count": 2,
   "metadata": {},
   "outputs": [
    {
     "name": "stdout",
     "output_type": "stream",
     "text": [
      "Please list a noundog\n",
      "Please list a verbrunning\n",
      "Please list a adjectivebeautiful face\n",
      "This dog is running and has such a beautiful face\n"
     ]
    }
   ],
   "source": [
    "noun = input(\"Please list a noun\")\n",
    "verb = input(\"Please list a verb\")\n",
    "adjective = input(\"Please list a adjective\")\n",
    "print(f\"This {noun} is {verb} and has such a {adjective}\")"
   ]
  },
  {
   "cell_type": "markdown",
   "metadata": {},
   "source": [
    "## Exercise #3 <br>\n",
    "<p>Take in a users input for their age, if they are younger than 18 print kids, if they're 18 to 65 print adults, else print seniors</p>"
   ]
  },
  {
   "cell_type": "code",
   "execution_count": 10,
   "metadata": {},
   "outputs": [
    {
     "name": "stdout",
     "output_type": "stream",
     "text": [
      "Please enter your age 50\n",
      "You are an adult\n"
     ]
    }
   ],
   "source": [
    "age = int(input(\"Please enter your age \"))\n",
    "\n",
    "\n",
    "if age < 18:\n",
    "    print(\"You are a kid\")\n",
    "elif age > 65: \n",
    "    print(\"You are a senior\")\n",
    "else:\n",
    "    print(\"You are an adult\")\n",
    "    "
   ]
  },
  {
   "cell_type": "markdown",
   "metadata": {},
   "source": [
    "## Exercise #4\n",
    "<p>Take in a number from a user input output the number squared.</p>"
   ]
  },
  {
   "cell_type": "code",
   "execution_count": 11,
   "metadata": {},
   "outputs": [
    {
     "name": "stdout",
     "output_type": "stream",
     "text": [
      "please input a number5\n",
      "25\n"
     ]
    }
   ],
   "source": [
    "number_input = int(input(\"please input a number\"))\n",
    "number_squared = number_input **2\n",
    "print(number_squared)"
   ]
  },
  {
   "cell_type": "markdown",
   "metadata": {},
   "source": [
    "## Exercise #5\n",
    "<p>Check the below variables' length. If the length of the word is greater than 5 output True, if it is less than 5, output False<p>\n"
   ]
  },
  {
   "cell_type": "code",
   "execution_count": 16,
   "metadata": {},
   "outputs": [
    {
     "name": "stdout",
     "output_type": "stream",
     "text": [
      "True\n",
      "True\n",
      "False\n",
      "True\n",
      "False\n"
     ]
    }
   ],
   "source": [
    "word1 = \"panini\"\n",
    "word2 = \"bulbasaur\"\n",
    "word3 = \"pie\"\n",
    "word4 = \"dolphin\"\n",
    "word5 = \"dog\"\n",
    "\n",
    "if len(word1) > 5:\n",
    "    print(\"True\")\n",
    "else:\n",
    "    print(\"False\")\n",
    "if len(word2) > 5:\n",
    "    print(\"True\")\n",
    "else:\n",
    "    print(\"False\")\n",
    "if len(word3) > 5:\n",
    "    print(\"True\")\n",
    "else:\n",
    "    print(\"False\")\n",
    "if len(word4) > 5:\n",
    "    print(\"True\")\n",
    "else:\n",
    "    print(\"False\")\n",
    "if len(word5) > 5:\n",
    "    print(\"True\")\n",
    "else:\n",
    "    print(\"False\")\n",
    "\n",
    "    "
   ]
  },
  {
   "cell_type": "code",
   "execution_count": null,
   "metadata": {},
   "outputs": [],
   "source": []
  }
 ],
 "metadata": {
  "kernelspec": {
   "display_name": "Python 3 (ipykernel)",
   "language": "python",
   "name": "python3"
  },
  "language_info": {
   "codemirror_mode": {
    "name": "ipython",
    "version": 3
   },
   "file_extension": ".py",
   "mimetype": "text/x-python",
   "name": "python",
   "nbconvert_exporter": "python",
   "pygments_lexer": "ipython3",
   "version": "3.9.13"
  }
 },
 "nbformat": 4,
 "nbformat_minor": 2
}
